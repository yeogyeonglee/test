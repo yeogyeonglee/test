{
 "cells": [
  {
   "cell_type": "code",
   "execution_count": null,
   "metadata": {},
   "outputs": [],
   "source": [
    "#1\n",
    "\n",
    "a = int(input(\"정수를 입력하세요 : \"))\n",
    "\n",
    "if a%2 == 0 :\n",
    "    print(\"짝수입니다.\")\n",
    "else :\n",
    "    print(\"홀수입니다.\")\n",
    "    "
   ]
  },
  {
   "cell_type": "code",
   "execution_count": 2,
   "metadata": {},
   "outputs": [
    {
     "name": "stdout",
     "output_type": "stream",
     "text": [
      "생물학 점수를 입력하세요 : 88\n",
      "학점은\n",
      "B\n",
      "입니다."
     ]
    }
   ],
   "source": [
    "#2\n",
    "\n",
    "score = int(input(\"생물학 점수를 입력하세요 : \"))\n",
    "\n",
    "print(\"학점은\")\n",
    "\n",
    "if score >= 90 :\n",
    "    print(\"A\")\n",
    "elif score >= 80 :\n",
    "    print(\"B\")\n",
    "elif score >= 70 :\n",
    "    print(\"C\")\n",
    "else :\n",
    "    print(\"F\")\n",
    "\n",
    "print(\"입니다.\")"
   ]
  },
  {
   "cell_type": "code",
   "execution_count": null,
   "metadata": {},
   "outputs": [],
   "source": [
    "#3\n",
    "\n",
    "a = 0\n",
    "b = 0\n",
    "ch = \"\"\n",
    "\n",
    "a = int(input(\"첫번째 수를 입력하세요 : \"))\n",
    "ch = input(\"계산할 연산자를 입력하세요 : \")\n",
    "b =  int(input(\"두번째 수를 입력하세요 : \"))\n",
    "\n",
    "if ch == \"+\" :\n",
    "    \n",
    "# == : 같다는 뜻 / \"+\" +를 변수로 인식\n",
    "\n",
    "    print(\"%d + %d = %d입니다.\" %(a,b,a+b))\n",
    "elif ch == \"*\" :\n",
    "    print(\"%d x %d = %d입니다.\" %(a,b,a*b))\n",
    "elif ch == \"%\" :\n",
    "    print(\"%d %% %d = %d입니다.\" %(a,b,a%b))\n",
    "elif ch == \"**\" :\n",
    "    print(\"%d xx %d = %d입니다.\" %(a,b,a**b))\n",
    "else :\n",
    "    print(\"알 수 없는 연산자 입니다.\")"
   ]
  },
  {
   "cell_type": "code",
   "execution_count": null,
   "metadata": {},
   "outputs": [],
   "source": [
    "#4\n",
    "\n",
    "for i in range(10) :\n",
    "    print(\"안녕하세요\")"
   ]
  },
  {
   "cell_type": "code",
   "execution_count": 4,
   "metadata": {},
   "outputs": [
    {
     "name": "stdout",
     "output_type": "stream",
     "text": [
      "1 2 3 4 5 6 7 8 9 10 "
     ]
    }
   ],
   "source": [
    "#5\n",
    "\n",
    "for i in range(1,11,1) :\n",
    "    print(\"%d \" %i, end='')"
   ]
  },
  {
   "cell_type": "code",
   "execution_count": null,
   "metadata": {},
   "outputs": [],
   "source": [
    "#6\n",
    "\n",
    "i, hap = 0, 0\n",
    "\n",
    "for i in range(0,101,2) :\n",
    "    hap = hap + i\n",
    "    \n",
    "print(\"1부터 10까지의 합 : %d\" %hap)"
   ]
  },
  {
   "cell_type": "code",
   "execution_count": 5,
   "metadata": {},
   "outputs": [
    {
     "name": "stdout",
     "output_type": "stream",
     "text": [
      "시작값 : 3\n",
      "끝값 : 5\n",
      "증가값 : 1\n",
      "3 에서 5 까지 1 만큼 증가한 값의 합은 12 이다.\n"
     ]
    }
   ],
   "source": [
    "#7\n",
    "\n",
    "i, hap = 0, 0\n",
    "a1,a2,a3 = 0,0,0\n",
    "\n",
    "a1 = int(input(\"시작값 : \"))\n",
    "a2 = int(input(\"끝값 : \"))\n",
    "a3 = int(input(\"증가값 : \"))\n",
    "\n",
    "for i in range(a1, a2+1, a3) :\n",
    "    hap = hap + i\n",
    "    \n",
    "print(\"%d 에서 %d 까지 %d 만큼 증가한 값의 합은 %d 이다.\" %(a1, a2, a3, hap))"
   ]
  },
  {
   "cell_type": "code",
   "execution_count": 7,
   "metadata": {},
   "outputs": [
    {
     "name": "stdout",
     "output_type": "stream",
     "text": [
      "2 x 1 = 2\n",
      "2 x 2 = 4\n",
      "2 x 3 = 6\n",
      "2 x 4 = 8\n",
      "2 x 5 = 10\n",
      "2 x 6 = 12\n",
      "2 x 7 = 14\n",
      "2 x 8 = 16\n",
      "2 x 9 = 18\n",
      "\n",
      "3 x 1 = 3\n",
      "3 x 2 = 6\n",
      "3 x 3 = 9\n",
      "3 x 4 = 12\n",
      "3 x 5 = 15\n",
      "3 x 6 = 18\n",
      "3 x 7 = 21\n",
      "3 x 8 = 24\n",
      "3 x 9 = 27\n",
      "\n",
      "4 x 1 = 4\n",
      "4 x 2 = 8\n",
      "4 x 3 = 12\n",
      "4 x 4 = 16\n",
      "4 x 5 = 20\n",
      "4 x 6 = 24\n",
      "4 x 7 = 28\n",
      "4 x 8 = 32\n",
      "4 x 9 = 36\n",
      "\n"
     ]
    }
   ],
   "source": [
    "#8\n",
    "\n",
    "i,j = 0,0\n",
    "\n",
    "for i in range(2,5,1) :\n",
    "    for j in range(1,10,1) :\n",
    "        print(\"%d x %d = %d\" %(i,j,i*j))\n",
    "    print(\"\") "
   ]
  },
  {
   "cell_type": "code",
   "execution_count": null,
   "metadata": {},
   "outputs": [],
   "source": [
    "#9\n",
    "\n",
    "a = input(\"문자열을 입력하세요 : \")\n",
    "con = len(a) #constant상수\n",
    "\n",
    "for i in range(0,con) :\n",
    "    print(a[i]+ str(i+1),end='')  #가능! 문자열+문자열 하기위해서 뒤에거를 str()으로 문자열화한것.\n",
    "    \n",
    "for i in range(0,con) :\n",
    "    print(a[i] + \"%d\"%(i+1), end='')"
   ]
  },
  {
   "cell_type": "code",
   "execution_count": null,
   "metadata": {},
   "outputs": [],
   "source": [
    "#10\n",
    "\n",
    "a = input(\"문자열을 입력하세요 : \")\n",
    "con = len(a)\n",
    "b = ''\n",
    "\n",
    "for i in range(con-1, -1, -1):              #for문의 range에 변수를 넣는 것이 컴퓨터가 빨리돌아간다..\n",
    "    b += a[i]"
   ]
  },
  {
   "cell_type": "code",
   "execution_count": null,
   "metadata": {},
   "outputs": [],
   "source": [
    "#11\n",
    "\n",
    "a = input(\"문자열을 입력하세요 : \")\n",
    "con = len(a)\n",
    "b = ''\n",
    "\n",
    "for i in range(0,con):\n",
    "    if a[i] != ' ':\n",
    "        b += a[i]\n",
    "        \n",
    "print(b)\n",
    "\n",
    "\n",
    "a = input(\"문자열을 입력하세요 : \")\n",
    "con = len(a)\n",
    "b = ''\n",
    "\n",
    "for i in range (0, con):\n",
    "    b += a[i].strip()         #공백은 스페이스와 엔터가 있다. strip은 앞뒤만 지우고 가운데를 못지움...\n",
    "    \n",
    "print(b)"
   ]
  },
  {
   "cell_type": "code",
   "execution_count": null,
   "metadata": {},
   "outputs": [],
   "source": [
    "#12\n",
    "\n",
    "c = int(input(\"자연수를 입력하세요 : \"))\n",
    "d = 1\n",
    "\n",
    "for i in range(1, c+1):   \n",
    "    d *= i\n",
    "# for i in range(c, 0,-1):   \n",
    "#    d *= i\n",
    "    \n",
    "print(d)\n",
    "print(\"%d!은 %d입니다.\" %(c,d))"
   ]
  },
  {
   "cell_type": "code",
   "execution_count": null,
   "metadata": {},
   "outputs": [],
   "source": [
    "#13\n",
    "\n",
    "fr=open(\"01codon.txt\", \"r\")\n",
    "r1=fr.readlines()\n",
    "fr.close()\n",
    "\n",
    "ss=''\n",
    "for s in r1 : \n",
    "    ss += s.strip()\n",
    "\n",
    "fw = open(\"01codon_1.txt\", \"w\")\n",
    "fw.write(ss)\n",
    "fw.close()"
   ]
  },
  {
   "cell_type": "code",
   "execution_count": null,
   "metadata": {},
   "outputs": [],
   "source": [
    "#14\n",
    "\n",
    "fr = open(\"02gene.txt\", \"r\")\n",
    "r1 = fr.readline()  #readlines 여러줄인거를 리스트로 읽고 readline은 한줄만(첫줄) 문자열로 가져옴\n",
    "fr.close()\n",
    "\n",
    "for s in range(0,len(r1),3):\n",
    "    print(r1[s:s+3])   \n"
   ]
  },
  {
   "cell_type": "code",
   "execution_count": null,
   "metadata": {},
   "outputs": [],
   "source": [
    "#15\n",
    "\n",
    "fr = open(\"03virus.csv\", \"r\")\n",
    "r1 = fr.readlines()\n",
    "fr.close\n",
    "\n",
    "print(r1)   #리스트로 들어갈때 한줄에 하나값으로 들어감.문자열형태로.\n",
    "    \n",
    "for s in r1 :\n",
    "    print(s)"
   ]
  },
  {
   "cell_type": "code",
   "execution_count": null,
   "metadata": {},
   "outputs": [],
   "source": [
    "#16\n",
    "\n",
    "fr = open(\"03virus.csv\", 'r')\n",
    "r1 = fr.readlines()\n",
    "fr.close()\n",
    "\n",
    "a=0\n",
    "for s in r1:\n",
    "    a += 1\n",
    "    if a == 1:\n",
    "        continue  #아무것도 하지말고 넘어가라..\n",
    "        \n",
    "    print(s.split(',')[0], s.split(',')[2])"
   ]
  }
 ],
 "metadata": {
  "kernelspec": {
   "display_name": "Python 3",
   "language": "python",
   "name": "python3"
  },
  "language_info": {
   "codemirror_mode": {
    "name": "ipython",
    "version": 3
   },
   "file_extension": ".py",
   "mimetype": "text/x-python",
   "name": "python",
   "nbconvert_exporter": "python",
   "pygments_lexer": "ipython3",
   "version": "3.7.1"
  }
 },
 "nbformat": 4,
 "nbformat_minor": 2
}
